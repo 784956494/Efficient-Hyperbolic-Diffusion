{
 "cells": [
  {
   "cell_type": "code",
   "execution_count": 16,
   "metadata": {},
   "outputs": [],
   "source": [
    "from utils.vis import plot_hyperbolic\n",
    "from geomstats.geometry.hyperbolic import Hyperbolic\n",
    "from distribution import WrappedMixture\n",
    "import logging"
   ]
  },
  {
   "cell_type": "code",
   "execution_count": 17,
   "metadata": {},
   "outputs": [],
   "source": [
    "ds_manifold = Hyperbolic(dim=2)\n",
    "dist = WrappedMixture(scale=[[0.15, 0.15, 0.5],[0.15, 0.15, 0.5],[0.15, 0.5, 0.15],[0.15, 0.5, 0.15]],\n",
    "                        batch_dims=512,\n",
    "                        manifold=ds_manifold,\n",
    "                        mean_type='hyperboloid4'\n",
    ")"
   ]
  },
  {
   "cell_type": "code",
   "execution_count": 18,
   "metadata": {},
   "outputs": [],
   "source": [
    "dist.device = 'cpu'\n",
    "train_ds, eval_ds, test_ds = dist, dist, dist"
   ]
  },
  {
   "cell_type": "code",
   "execution_count": null,
   "metadata": {},
   "outputs": [],
   "source": [
    "def log_plot(plt, step) -> None:\n",
    "        if plt is None:\n",
    "            return\n",
    "        if isinstance(plt, list) and len(plt)>1:\n",
    "            for i, plot_i in enumerate(plt):\n",
    "                plot_i.savefig('hyp_' + 'step' + f\"_{i}.png\", dpi=300, bbox_inches=\"tight\")\n",
    "        if isinstance(plt, list) and len(plt)==1:\n",
    "            for i, plot_i in enumerate(plt):\n",
    "                plot_i.savefig('hyp_' + 'step' + f\".png\", dpi=300, bbox_inches=\"tight\")\n",
    "        else:\n",
    "            try:\n",
    "                # matplotlib\n",
    "                plt.savefig('hyp_' + 'step' + \".png\", dpi=300, bbox_inches=\"tight\")\n",
    "            except:\n",
    "                # plotly\n",
    "                plt.write_image('hyp_' + 'step' + \".png\")\n",
    "\n",
    "def generate_plots(train_state, stage, step=None):\n",
    "        try:\n",
    "            # modelf = train_state.modelf\n",
    "            # modelb = train_state.modelb\n",
    "\n",
    "            # likelihood_fn = get_log_prob(modelf, modelb)\n",
    "            log_prob = lambda x: likelihood_fn(x)[0]\n",
    "            #TODO make log prob function\n",
    "            log_prob = 0\n",
    "            plt = plot_hyperbolic(test_ds, log_prob)\n",
    "            if plt is not None:\n",
    "                log_plot(f\"\", plt, step)\n",
    "        except:\n",
    "            pass\n",
    "def likelihood_fn(x):\n",
    "    return 0"
   ]
  }
 ],
 "metadata": {
  "kernelspec": {
   "display_name": "hyp_diff",
   "language": "python",
   "name": "python3"
  },
  "language_info": {
   "codemirror_mode": {
    "name": "ipython",
    "version": 3
   },
   "file_extension": ".py",
   "mimetype": "text/x-python",
   "name": "python",
   "nbconvert_exporter": "python",
   "pygments_lexer": "ipython3",
   "version": "3.10.5"
  },
  "orig_nbformat": 4,
  "vscode": {
   "interpreter": {
    "hash": "2a17ac69df7e8e788b3c7890ba006d35201a55c3b9e5849730b89768a820e1f7"
   }
  }
 },
 "nbformat": 4,
 "nbformat_minor": 2
}
